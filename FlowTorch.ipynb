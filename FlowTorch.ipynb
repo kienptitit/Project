{
 "cells": [
  {
   "cell_type": "code",
   "execution_count": 6,
   "id": "8a4e51ef",
   "metadata": {},
   "outputs": [],
   "source": [
    "import torch\n",
    "import flowtorch.bijectors as bij\n",
    "import flowtorch.distributions as dist\n",
    "import seaborn as sns\n",
    "import matplotlib.pyplot as plt"
   ]
  },
  {
   "cell_type": "code",
   "execution_count": 57,
   "id": "ee6b4ed4",
   "metadata": {},
   "outputs": [
    {
     "data": {
      "text/plain": [
       "'\\nx -> exp(x) => dist(x) = dist(exp(x))*exp(x)\\n'"
      ]
     },
     "execution_count": 57,
     "metadata": {},
     "output_type": "execute_result"
    }
   ],
   "source": [
    "dist_x = torch.distributions.Independent(\n",
    "  torch.distributions.Normal(torch.zeros(1), torch.ones(1)), \n",
    "  1\n",
    ")\n",
    "bijector = bij.Exp()\n",
    "\"\"\"\n",
    "x -> exp(x) => dist(x) = dist(exp(x))*exp(x)\n",
    "\"\"\""
   ]
  },
  {
   "cell_type": "code",
   "execution_count": 58,
   "id": "e06c4226",
   "metadata": {},
   "outputs": [
    {
     "data": {
      "text/plain": [
       "flowtorch.distributions.flow.Flow"
      ]
     },
     "execution_count": 58,
     "metadata": {},
     "output_type": "execute_result"
    }
   ],
   "source": [
    "dist_y = dist.Flow(dist_x,bijector)\n",
    "type(dist_y)"
   ]
  },
  {
   "cell_type": "code",
   "execution_count": 63,
   "id": "78fb0c19",
   "metadata": {},
   "outputs": [
    {
     "data": {
      "text/plain": [
       "torch.Size([1000])"
      ]
     },
     "execution_count": 63,
     "metadata": {},
     "output_type": "execute_result"
    }
   ],
   "source": [
    "X = torch.rand(1000,2)\n",
    "\n",
    "dist_y.log_prob(X).shape"
   ]
  },
  {
   "cell_type": "code",
   "execution_count": 26,
   "id": "4a7e58ed",
   "metadata": {},
   "outputs": [
    {
     "data": {
      "image/png": "[encoded data removed]",
      "text/plain": [
       "<Figure size 640x480 with 2 Axes>"
      ]
     },
     "metadata": {},
     "output_type": "display_data"
    }
   ],
   "source": [
    "data_x = dist_x.sample([1000]).squeeze().numpy()\n",
    "data_y = dist_y.sample([1000]).squeeze().numpy()\n",
    "plt.subplot(1,2,1)\n",
    "plt.hist(data_x,bins = 50)\n",
    "plt.subplot(1,2,2)\n",
    "plt.hist(data_y,bins = 50)\n",
    "plt.show()"
   ]
  },
  {
   "cell_type": "code",
   "execution_count": 53,
   "id": "c7aaa9a6",
   "metadata": {},
   "outputs": [
    {
     "data": {
      "text/plain": [
       "tensor(-1586.9399)"
      ]
     },
     "execution_count": 53,
     "metadata": {},
     "output_type": "execute_result"
    }
   ],
   "source": [
    "# dist_x = torch.distributions.Independent(\n",
    "#   torch.distributions.Normal(torch.zeros(1), torch.ones(1)), \n",
    "#   1\n",
    "# )\n",
    "# # dist_x = torch.distributions.normal.Normal(loc=0, scale=1)\n",
    "# x = torch.linspace(-2,2,1000)\n",
    "# dist_x.log_prob(x)\n",
    "# print(ll_x)\n",
    "# plt.plot(ll_x.numpy())"
   ]
  }
 ],
 "metadata": {
  "kernelspec": {
   "display_name": "Python 3 (ipykernel)",
   "language": "python",
   "name": "python3"
  },
  "language_info": {
   "codemirror_mode": {
    "name": "ipython",
    "version": 3
   },
   "file_extension": ".py",
   "mimetype": "text/x-python",
   "name": "python",
   "nbconvert_exporter": "python",
   "pygments_lexer": "ipython3",
   "version": "3.9.13"
  }
 },
 "nbformat": 4,
 "nbformat_minor": 5
}
